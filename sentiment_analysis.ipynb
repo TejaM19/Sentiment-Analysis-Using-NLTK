{
 "cells": [
  {
   "cell_type": "code",
   "execution_count": 1,
   "id": "02ac8acc-8795-4a52-b720-b461790e8fd7",
   "metadata": {},
   "outputs": [
    {
     "name": "stderr",
     "output_type": "stream",
     "text": [
      "[nltk_data] Downloading package vader_lexicon to\n",
      "[nltk_data]     C:\\Users\\ganes\\AppData\\Roaming\\nltk_data...\n"
     ]
    },
    {
     "name": "stdout",
     "output_type": "stream",
     "text": [
      "Sentiment\n",
      "Positive    850\n",
      "Neutral      88\n",
      "Negative     62\n",
      "Name: count, dtype: int64\n",
      "\n",
      "Examples:\n",
      "\n",
      "Positive: Super cute shoe however runs wide and big, I'm a size 10 however this size 10 is too big. I went to a sporting goods store and tried the same shoe on  turns out with this particular shoe I'm a 9.5, so order half the size u normally are.\n",
      "\n",
      "Neutral: Squeaky\n",
      "\n",
      "Negative: Did not fit well. Was not comfortable. Switched to \"Fruit of the loom\". Fruit of the loom are somewhat oversized but fit well and are very comfortable.\n",
      "\n"
     ]
    }
   ],
   "source": [
    "import pandas as pd\n",
    "from nltk.sentiment.vader import SentimentIntensityAnalyzer\n",
    "import nltk\n",
    "import random\n",
    "\n",
    "nltk.download('vader_lexicon')\n",
    "\n",
    "df = pd.read_csv('AMAZON_FASHION_data.csv')\n",
    "\n",
    "df = df[['reviewText']].dropna().sample(1000, random_state=1)\n",
    "\n",
    "sid = SentimentIntensityAnalyzer()\n",
    "\n",
    "def get_sentiment(text):\n",
    "    score = sid.polarity_scores(text)['compound']\n",
    "    if score >= 0.05:\n",
    "        return 'Positive'\n",
    "    elif score <= -0.05:\n",
    "        return 'Negative'\n",
    "    return 'Neutral'\n",
    "\n",
    "df['Sentiment'] = df['reviewText'].apply(get_sentiment)\n",
    "\n",
    "print(df['Sentiment'].value_counts())\n",
    "print(\"\\nExamples:\\n\")\n",
    "for sentiment in ['Positive', 'Neutral', 'Negative']:\n",
    "    example = df[df['Sentiment'] == sentiment]['reviewText'].iloc[0]\n",
    "    print(f\"{sentiment}: {example}\\n\")\n"
   ]
  },
  {
   "cell_type": "code",
   "execution_count": 2,
   "id": "d4029283-b368-44d3-a652-9030932d3ef4",
   "metadata": {},
   "outputs": [
    {
     "name": "stderr",
     "output_type": "stream",
     "text": [
      "[nltk_data] Downloading package vader_lexicon to\n",
      "[nltk_data]     C:\\Users\\ganes\\AppData\\Roaming\\nltk_data...\n",
      "[nltk_data]   Package vader_lexicon is already up-to-date!\n"
     ]
    },
    {
     "name": "stdout",
     "output_type": "stream",
     "text": [
      "Sentiment\n",
      "Positive    850\n",
      "Neutral      88\n",
      "Negative     62\n",
      "Name: count, dtype: int64\n",
      "\n",
      "Examples:\n",
      "\n",
      "Positive: Super cute shoe however runs wide and big, I'm a size 10 however this size 10 is too big. I went to a sporting goods store and tried the same shoe on  turns out with this particular shoe I'm a 9.5, so order half the size u normally are.\n",
      "\n",
      "Neutral: Squeaky\n",
      "\n",
      "Negative: Did not fit well. Was not comfortable. Switched to \"Fruit of the loom\". Fruit of the loom are somewhat oversized but fit well and are very comfortable.\n",
      "\n"
     ]
    }
   ],
   "source": [
    "import pandas as pd\n",
    "from nltk.sentiment.vader import SentimentIntensityAnalyzer\n",
    "import nltk\n",
    "import random\n",
    "\n",
    "nltk.download('vader_lexicon')\n",
    "\n",
    "df = pd.read_csv('AMAZON_FASHION_data.csv')\n",
    "\n",
    "df = df[['reviewText']].dropna().sample(1000, random_state=1)\n",
    "\n",
    "sid = SentimentIntensityAnalyzer()\n",
    "\n",
    "def get_sentiment(text):\n",
    "    score = sid.polarity_scores(text)['compound']\n",
    "    if score >= 0.05:\n",
    "        return 'Positive'\n",
    "    elif score <= -0.05:\n",
    "        return 'Negative'\n",
    "    return 'Neutral'\n",
    "\n",
    "df['Sentiment'] = df['reviewText'].apply(get_sentiment)\n",
    "\n",
    "print(df['Sentiment'].value_counts())\n",
    "print(\"\\nExamples:\\n\")\n",
    "for sentiment in ['Positive', 'Neutral', 'Negative']:\n",
    "    example = df[df['Sentiment'] == sentiment]['reviewText'].iloc[0]\n",
    "    print(f\"{sentiment}: {example}\\n\")\n"
   ]
  },
  {
   "cell_type": "code",
   "execution_count": null,
   "id": "06b45202-37e0-4134-ace8-035e53bb48ef",
   "metadata": {},
   "outputs": [],
   "source": []
  }
 ],
 "metadata": {
  "kernelspec": {
   "display_name": "Python 3 (ipykernel)",
   "language": "python",
   "name": "python3"
  },
  "language_info": {
   "codemirror_mode": {
    "name": "ipython",
    "version": 3
   },
   "file_extension": ".py",
   "mimetype": "text/x-python",
   "name": "python",
   "nbconvert_exporter": "python",
   "pygments_lexer": "ipython3",
   "version": "3.11.9"
  }
 },
 "nbformat": 4,
 "nbformat_minor": 5
}
